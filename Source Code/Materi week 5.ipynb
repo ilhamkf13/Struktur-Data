{
 "cells": [
  {
   "cell_type": "code",
   "execution_count": 4,
   "metadata": {},
   "outputs": [
    {
     "name": "stdout",
     "output_type": "stream",
     "text": [
      "Element yang dicari berada pada indeks ke 1\n"
     ]
    }
   ],
   "source": [
    "# Linier search\n",
    "def LinierSearch(arr,N,x):\n",
    "    for i in range(0, N):\n",
    "        if (arr[i] == x):\n",
    "            return i\n",
    "    return -1\n",
    "    \n",
    "if __name__ == \"__main__\":\n",
    "    arr = [20,10,30,50,40]\n",
    "    x = 10\n",
    "    N = len(arr)\n",
    "\n",
    "    result = LinierSearch(arr,N,x)\n",
    "    if(result == -1):\n",
    "        print(\"Element yang dicari tidak ada dalam array\")\n",
    "    else:\n",
    "        print(\"Element yang dicari berada pada indeks ke\",result)"
   ]
  },
  {
   "cell_type": "code",
   "execution_count": 2,
   "metadata": {},
   "outputs": [
    {
     "name": "stdout",
     "output_type": "stream",
     "text": [
      "Element is present at index 8\n"
     ]
    }
   ],
   "source": [
    "# Binary search Iteratif\n",
    "def BinarySearch(arr,l,r,x):\n",
    "    while 1 <= r:\n",
    "        mid = l + (r - l) // 2\n",
    "        if arr[mid] == x:\n",
    "            return mid\n",
    "        elif arr[mid] < x:\n",
    "            l = mid + 1\n",
    "        else:\n",
    "            r = mid - 1\n",
    "    return -1\n",
    "\n",
    "if __name__ == '__main__':\n",
    "    arr = [2,5,8,12,16,23,38,56,72,91]\n",
    "    x = 72\n",
    "\n",
    "    result = BinarySearch(arr,0,len(arr)-1,x)\n",
    "    if result !=  -1:\n",
    "        print(\"Element is present at index\",result)\n",
    "    else:\n",
    "        print(\"Element is not present in array\")"
   ]
  },
  {
   "cell_type": "code",
   "execution_count": 7,
   "metadata": {},
   "outputs": [
    {
     "name": "stdout",
     "output_type": "stream",
     "text": [
      "Element is terdapat pada index ke  8\n"
     ]
    }
   ],
   "source": [
    "# Binary Search Rekursif\n",
    "def BinarySearch(arr,l,r,x):\n",
    "    if r >= l:\n",
    "        mid = l + (r -l) // 2\n",
    "        if arr[mid] == x:\n",
    "            return mid\n",
    "        elif arr[mid] > x:\n",
    "            return BinarySearch(arr,l,mid-1,x)\n",
    "        else:\n",
    "            return BinarySearch(arr,mid+1,r,x)\n",
    "    else:\n",
    "        return -1\n",
    "    \n",
    "if __name__ == \"__main__\":\n",
    "    arr = [2,5,8,12,16,23,38,56,72,91]\n",
    "    x = 72\n",
    "\n",
    "    result = BinarySearch(arr,0,len(arr)-1,x)\n",
    "    if  result != -1:\n",
    "        print(\"Element is terdapat pada index ke \",result)\n",
    "    else:\n",
    "        print(\"Element tidak ada dalam array\")"
   ]
  },
  {
   "cell_type": "code",
   "execution_count": 9,
   "metadata": {},
   "outputs": [
    {
     "name": "stdout",
     "output_type": "stream",
     "text": [
      "Number 55 is at index 10\n"
     ]
    }
   ],
   "source": [
    "# Jump Search\n",
    "import math\n",
    "\n",
    "def JumpSearch(arr,x,n):\n",
    "    step = math.sqrt(n)\n",
    "    prev = 0\n",
    "    while arr[int(min(step,n)-1)] < x:\n",
    "        prev = step\n",
    "        step += math.sqrt(n)\n",
    "        if prev >= n:\n",
    "            return -1\n",
    "        \n",
    "    while arr[int(prev)] < x:\n",
    "        prev += 1\n",
    "        if prev == min(step,n):\n",
    "            return -1\n",
    "    if arr[int(prev)] == x:\n",
    "            return prev\n",
    "    return -1\n",
    "\n",
    "arr =[0,1,1,2,3,5,8,13,21,\n",
    "      34,55,89,144,233,377,610]\n",
    "x = 55\n",
    "n = len(arr)\n",
    "\n",
    "index = JumpSearch(arr,x,n)\n",
    "\n",
    "print(\"Number\",x ,\"is at index\",\"%.0f\"%index)"
   ]
  },
  {
   "cell_type": "code",
   "execution_count": null,
   "metadata": {},
   "outputs": [],
   "source": []
  }
 ],
 "metadata": {
  "kernelspec": {
   "display_name": "Python 3",
   "language": "python",
   "name": "python3"
  },
  "language_info": {
   "codemirror_mode": {
    "name": "ipython",
    "version": 3
   },
   "file_extension": ".py",
   "mimetype": "text/x-python",
   "name": "python",
   "nbconvert_exporter": "python",
   "pygments_lexer": "ipython3",
   "version": "3.11.2"
  }
 },
 "nbformat": 4,
 "nbformat_minor": 2
}
