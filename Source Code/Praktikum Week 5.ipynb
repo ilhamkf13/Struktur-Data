{
 "cells": [
  {
   "cell_type": "code",
   "execution_count": 3,
   "metadata": {},
   "outputs": [
    {
     "name": "stdout",
     "output_type": "stream",
     "text": [
      "Nilai terendah: 45\n",
      "Nilai tertinggi: 100\n"
     ]
    }
   ],
   "source": [
    "def find_min_max(scores):\n",
    "    min_score = max_score = scores[0]\n",
    "\n",
    "    for score in scores[1:]:\n",
    "        if score < min_score:\n",
    "            min_score = score\n",
    "        elif score > max_score:\n",
    "            max_score = score\n",
    "\n",
    "    return min_score, max_score\n",
    "\n",
    "scores = [75, 80, 65, 90, 85, 70, 95, 60, 100, 55,\n",
    "          45, 92, 88, 73, 67, 84, 79, 83, 91, 87,\n",
    "          77, 81, 68, 74, 78, 89, 66, 72, 63, 99,\n",
    "          94, 69, 71, 97, 76, 98, 86, 82, 96, 61]\n",
    "\n",
    "min_score, max_score = find_min_max(scores)\n",
    "\n",
    "print(\"Nilai terendah:\", min_score)\n",
    "print(\"Nilai tertinggi:\", max_score)\n"
   ]
  },
  {
   "cell_type": "code",
   "execution_count": 4,
   "metadata": {},
   "outputs": [
    {
     "name": "stdout",
     "output_type": "stream",
     "text": [
      "Input: [3, 1, 3]\n",
      "Hilang = 2 , Terulang = 3\n",
      "\n",
      "Input: [4, 3, 6, 2, 1, 1]\n",
      "Hilang = 5 , Terulang = 1\n"
     ]
    }
   ],
   "source": [
    "def find_missing_and_duplicate(arr):\n",
    "    n = len(arr)\n",
    "    temp = [0] * n\n",
    "\n",
    "    missing_number = duplicate_number = None\n",
    "\n",
    "    for num in arr:\n",
    "        if temp[num - 1] == 0:\n",
    "            temp[num - 1] = 1\n",
    "        elif temp[num - 1] == 1:\n",
    "            duplicate_number = num\n",
    "\n",
    "    for i in range(n):\n",
    "        if temp[i] == 0:\n",
    "            missing_number = i + 1\n",
    "            break\n",
    "\n",
    "    return missing_number, duplicate_number\n",
    "\n",
    "arr1 = [3, 1, 3]\n",
    "arr2 = [4, 3, 6, 2, 1, 1]\n",
    "\n",
    "missing1, duplicate1 = find_missing_and_duplicate(arr1)\n",
    "missing2, duplicate2 = find_missing_and_duplicate(arr2)\n",
    "\n",
    "# Menampilkan hasil\n",
    "print(\"Input:\", arr1)\n",
    "print(\"Hilang =\", missing1, \", Terulang =\", duplicate1)\n",
    "\n",
    "print(\"\\nInput:\", arr2)\n",
    "print(\"Hilang =\", missing2, \", Terulang =\", duplicate2)\n"
   ]
  },
  {
   "cell_type": "code",
   "execution_count": 5,
   "metadata": {},
   "outputs": [
    {
     "name": "stdout",
     "output_type": "stream",
     "text": [
      "Input: [11, 15, 6, 8, 9, 10] X = 16\n",
      "Output: False\n",
      "\n",
      "Input: [11, 15, 26, 38, 9, 10] X = 35\n",
      "Output: True\n",
      "\n",
      "Input: [11, 15, 26, 38, 9, 10] X = 45\n",
      "Output: False\n"
     ]
    }
   ],
   "source": [
    "def pair_with_sum(arr, X):\n",
    "    left = 0\n",
    "    right = len(arr) - 1\n",
    "\n",
    "    while left < right:\n",
    "        current_sum = arr[left] + arr[right]\n",
    "\n",
    "        if current_sum == X:\n",
    "            return True\n",
    "        elif current_sum < X:\n",
    "            left += 1\n",
    "        else:\n",
    "            right -= 1\n",
    "\n",
    "    return False\n",
    "\n",
    "arr1 = [11, 15, 6, 8, 9, 10]\n",
    "X1 = 16\n",
    "\n",
    "arr2 = [11, 15, 26, 38, 9, 10]\n",
    "X2 = 35\n",
    "\n",
    "arr3 = [11, 15, 26, 38, 9, 10]\n",
    "X3 = 45\n",
    "\n",
    "print(\"Input:\", arr1, \"X =\", X1)\n",
    "print(\"Output:\", pair_with_sum(arr1, X1))\n",
    "\n",
    "print(\"\\nInput:\", arr2, \"X =\", X2)\n",
    "print(\"Output:\", pair_with_sum(arr2, X2))\n",
    "\n",
    "print(\"\\nInput:\", arr3, \"X =\", X3)\n",
    "print(\"Output:\", pair_with_sum(arr3, X3))\n"
   ]
  }
 ],
 "metadata": {
  "kernelspec": {
   "display_name": "Python 3",
   "language": "python",
   "name": "python3"
  },
  "language_info": {
   "codemirror_mode": {
    "name": "ipython",
    "version": 3
   },
   "file_extension": ".py",
   "mimetype": "text/x-python",
   "name": "python",
   "nbconvert_exporter": "python",
   "pygments_lexer": "ipython3",
   "version": "3.11.2"
  }
 },
 "nbformat": 4,
 "nbformat_minor": 2
}
