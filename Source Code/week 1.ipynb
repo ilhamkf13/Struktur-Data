{
 "cells": [
  {
   "cell_type": "code",
   "execution_count": 29,
   "metadata": {},
   "outputs": [
    {
     "name": "stdout",
     "output_type": "stream",
     "text": [
      "Data array yang sudah dibuat :\n",
      "1 2 3 \n",
      "Data array yang telah diperbarui :\n",
      "2.5 4.2 5.8 \n"
     ]
    }
   ],
   "source": [
    "#Bab 1.1\n",
    "import array as arr\n",
    "\n",
    "a = arr.array('i', [1,2,3])\n",
    "print(\"Data array yang dibuat :\", end=\"\\n\")\n",
    "for i in range(0,3):\n",
    "    print(a[i],end=' ')\n",
    "print()\n",
    "b = arr.array('d',[2.5, 4.2 ,5.8])\n",
    "print(\"Data array yang telah diperbarui :\",end=\"\\n\")\n",
    "for i in range (0, 3):\n",
    "    print(b[i],end=\" \")\n",
    "print()"
   ]
  },
  {
   "cell_type": "code",
   "execution_count": 35,
   "metadata": {},
   "outputs": [
    {
     "name": "stdout",
     "output_type": "stream",
     "text": [
      "Data array yang sebelum dirubah :\n",
      "1 2 3 \n",
      "Data array yang sudah dirubah : \n",
      "1 2 3 4 \n",
      "Data array yang sebelum dirubah :\n",
      "2.5 4.2 5.8 \n",
      "Data array yang sudah dirubah : \n",
      "2.5 4.2 5.8 6.4 \n"
     ]
    }
   ],
   "source": [
    "#Bab 1.2\n",
    "import array as arr\n",
    "\n",
    "a = arr.array('i', [1,2,3])\n",
    "print(\"Data array yang sebelum dirubah :\", end=\"\\n\")\n",
    "for i in range(0,3):\n",
    "    print(a[i],end=' ')\n",
    "print()\n",
    "a.insert(3, 4)\n",
    "print(\"Data array yang sudah dirubah : \", end=\"\\n\")\n",
    "for i in (a):\n",
    "    print(i, end=' ')\n",
    "print()\n",
    "b = arr.array('d',[2.5, 4.2 ,5.8])\n",
    "print(\"Data array yang sebelum dirubah :\",end=\"\\n\")\n",
    "for i in range (0, 3):\n",
    "    print(b[i],end=\" \")\n",
    "print()\n",
    "b.append(6.4)\n",
    "print(\"Data array yang sudah dirubah : \", end=\"\\n\")\n",
    "for i in (b):\n",
    "    print(i, end=' ')\n",
    "print()"
   ]
  },
  {
   "cell_type": "code",
   "execution_count": 39,
   "metadata": {},
   "outputs": [
    {
     "name": "stdout",
     "output_type": "stream",
     "text": [
      "access element is =  3\n",
      "access element is =  6\n",
      "access element is =  4.2\n",
      "access element is =  5.8\n"
     ]
    }
   ],
   "source": [
    "#Bab 1.3\n",
    "import array as arr\n",
    "a =arr.array('i',[1 ,2 ,3 ,4 ,5 ,6])\n",
    "print(\"access element is = \", a[2])\n",
    "print(\"access element is = \", a[5])\n",
    "b =arr.array('d',[2.5, 4.2, 5.8])\n",
    "print(\"access element is = \", b[1])\n",
    "print(\"access element is = \", b[2])"
   ]
  },
  {
   "cell_type": "code",
   "execution_count": 44,
   "metadata": {},
   "outputs": [
    {
     "name": "stdout",
     "output_type": "stream",
     "text": [
      "The new created array is  1 2 3 1 5 \n",
      "The popped element is = 3\n",
      "The array after popping is = 1 2 1 5 \n",
      "\n",
      "The array after removing is = 2 1 5 "
     ]
    }
   ],
   "source": [
    "#Bab 1.4\n",
    "import array\n",
    "arr = array.array('i', [1, 2, 3, 1, 5])\n",
    "print(\"The new created array is \", end=\" \")\n",
    "for i in range(0, 5):\n",
    "    print(arr[i], end=\" \")\n",
    "print(\"\\r\")\n",
    "print(\"The popped element is =\", end=\" \")\n",
    "print(arr.pop(2))\n",
    "print(\"The array after popping is =\", end=\" \")\n",
    "for i in range(0, 4):\n",
    "    print(arr[i], end=\" \")\n",
    "print(\"\\n\")\n",
    "arr.remove(1)\n",
    "print(\"The array after removing is =\", end=\" \")\n",
    "for i in range(0, 3):\n",
    "    print(arr[i], end=\" \")"
   ]
  },
  {
   "cell_type": "code",
   "execution_count": 49,
   "metadata": {},
   "outputs": [
    {
     "name": "stdout",
     "output_type": "stream",
     "text": [
      "Initial Array: \n",
      "1 2 3 4 5 6 7 8 9 10 \n",
      "Slicing elements in a range 3-8: \n",
      "array('i', [4, 5, 6, 7, 8])\n",
      "\n",
      "Elements sliced from 5th element till the end: \n",
      "array('i', [6, 7, 8, 9, 10])\n",
      "\n",
      "Printing all elements using slice operation: \n",
      "array('i', [1, 2, 3, 4, 5, 6, 7, 8, 9, 10])\n"
     ]
    }
   ],
   "source": [
    "#Bab 1.5\n",
    "import array as arr\n",
    "l = [1, 2, 3, 4, 5, 6, 7, 8, 9, 10]\n",
    "a = arr.array('i', l)\n",
    "print(\"Initial Array: \")\n",
    "for i in (a):\n",
    "    print(i, end=\" \")\n",
    "Sliced_array = a[3:8]\n",
    "print(\"\\nSlicing elements in a range 3-8: \")\n",
    "print(Sliced_array)\n",
    "Sliced_array = a[5:]\n",
    "print(\"\\nElements sliced from 5th \"\n",
    "\"element till the end: \")\n",
    "print(Sliced_array)\n",
    "Sliced_array = a[:]\n",
    "print(\"\\nPrinting all elements using slice operation: \")\n",
    "print(Sliced_array)"
   ]
  },
  {
   "cell_type": "code",
   "execution_count": 53,
   "metadata": {},
   "outputs": [
    {
     "name": "stdout",
     "output_type": "stream",
     "text": [
      "Array before updation : 1 2 3 1 2 5 \n",
      "\n",
      "Array after updation : 1 2 6 1 2 5 \n",
      "Array after updation : 1 2 6 1 8 5 "
     ]
    }
   ],
   "source": [
    "#Bab 1.6\n",
    "import array\n",
    "arr = array.array('i', [1, 2, 3, 1, 2, 5]) \n",
    "print(\"Array before updation :\", end=\" \")\n",
    "for i in range(0, 6):\n",
    "    print(arr[i], end=\" \")\n",
    "print(\"\\n\")\n",
    "arr[2] = 6\n",
    "print(\"Array after updation :\", end=\" \")\n",
    "for i in range(0, 6):\n",
    "    print(arr[i], end=\" \")\n",
    "print()\n",
    "arr[4] = 8\n",
    "print(\"Array after updation :\",end=\" \")\n",
    "for i in range(0, 6):\n",
    "    print(arr[i], end=\" \")"
   ]
  },
  {
   "cell_type": "code",
   "execution_count": 59,
   "metadata": {},
   "outputs": [
    {
     "name": "stdout",
     "output_type": "stream",
     "text": [
      "Number of occurrences of 2 = 3\n"
     ]
    }
   ],
   "source": [
    "#Bab 1.7\n",
    "import array\n",
    "myArray = array.array('i', [1, 2, 3, 4, 2, 5, 2])\n",
    "#Menghitung elemen array\n",
    "count = myArray.count(2)\n",
    "print(\"Number of occurrences of 2 =\", count)"
   ]
  },
  {
   "cell_type": "code",
   "execution_count": 61,
   "metadata": {},
   "outputs": [
    {
     "name": "stdout",
     "output_type": "stream",
     "text": [
      "Number of occurrences of 2: 3\n",
      "Original array: 1 2 3 4 2 5 2\n",
      "Reversed array: 2 5 2 4 3 2 1\n"
     ]
    }
   ],
   "source": [
    "#Bab 1.8\n",
    "import array\n",
    "myArray = array.array('i', [1, 2, 3, 4, 2, 5, 2])\n",
    "# Menghitung elemen array\n",
    "count = myArray.count(2)\n",
    "print(\"Number of occurrences of 2:\", count)\n",
    "# Membalik Elemen Array\n",
    "print(\"Original array:\", *myArray)\n",
    "myArray.reverse()\n",
    "print(\"Reversed array:\", *myArray)"
   ]
  },
  {
   "cell_type": "code",
   "execution_count": 66,
   "metadata": {},
   "outputs": [
    {
     "name": "stdout",
     "output_type": "stream",
     "text": [
      "The before array extend = 1 2 3 4 5 \n",
      "\n",
      "The array after extend = 1 2 3 4 5 6 7 8 9 10 \n"
     ]
    }
   ],
   "source": [
    "#Bab 1.9\n",
    "import array as arr\n",
    "a = arr.array('i', [1, 2, 3,4,5])\n",
    "print(\"The before array extend =\", end=\" \")\n",
    "for i in range (0, 5):\n",
    "    print (a[i], end=\" \")\n",
    "print()\n",
    "a.extend([6,7,8,9,10]) \n",
    "print(\"\\nThe array after extend =\",end =\" \")\n",
    "for i in range(0,10):\n",
    "    print(a[i], end=\" \")\n",
    "print()"
   ]
  },
  {
   "cell_type": "code",
   "execution_count": 67,
   "metadata": {},
   "outputs": [
    {
     "name": "stdout",
     "output_type": "stream",
     "text": [
      "The Before extend array is  1 2 3 4 5 6 \n",
      "\n",
      "The After extend array is 1 2 3 4 5 6 7 8 9 10 11 12 \n",
      "\n",
      "The before extend array is 2.1 2.2 2.3 2.4 2.5 2.6 \n",
      "\n",
      "The after extend array is 2.1 2.2 2.3 2.4 2.5 2.6 2.6 2.7 2.8 2.9 \n"
     ]
    }
   ],
   "source": [
    "#Bab 1.10\n",
    "import array as arr\n",
    "a = arr.array('i', [1,2,3,4,5,6])\n",
    "print(\"The Before extend array is \", end=\" \")\n",
    "for i in range(0,6):\n",
    "    print(a[i], end=\" \")\n",
    "print()\n",
    "a.extend([7,8,9,10,11,12])\n",
    "print(\"\\nThe After extend array is\", end=\" \")\n",
    "for i in range(0,12):\n",
    "    print(a[i], end=\" \")\n",
    "print()\n",
    "b = arr.array('d', [2.1,2.2,2.3,2.4,2.5,2.6]) \n",
    "print(\"\\nThe before extend array is\", end=\" \")\n",
    "for i in range(0,6):\n",
    "    print(b[i], end=\" \")\n",
    "print()\n",
    "b.extend((2.6,2.7,2.8,2.9))\n",
    "print(\"\\nThe after extend array is\", end=\" \")\n",
    "for i in range(0,9+1):\n",
    "    print(b[i], end=\" \")\n",
    "print()"
   ]
  }
 ],
 "metadata": {
  "kernelspec": {
   "display_name": "Python 3",
   "language": "python",
   "name": "python3"
  },
  "language_info": {
   "codemirror_mode": {
    "name": "ipython",
    "version": 3
   },
   "file_extension": ".py",
   "mimetype": "text/x-python",
   "name": "python",
   "nbconvert_exporter": "python",
   "pygments_lexer": "ipython3",
   "version": "3.11.2"
  }
 },
 "nbformat": 4,
 "nbformat_minor": 2
}
