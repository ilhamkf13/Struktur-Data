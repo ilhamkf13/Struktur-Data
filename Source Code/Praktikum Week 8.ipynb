{
 "cells": [
  {
   "cell_type": "code",
   "execution_count": 1,
   "metadata": {},
   "outputs": [
    {
     "name": "stdout",
     "output_type": "stream",
     "text": [
      "Topological Sort of the given graph:\n",
      "5 4 2 3 1 0 "
     ]
    }
   ],
   "source": [
    "def topologicalSortUtil(v, adj, visited, stack):\n",
    "    visited[v] = True\n",
    "    \n",
    "    for i in adj[v]:\n",
    "        if not visited[i]:\n",
    "            topologicalSortUtil(i, adj, visited, stack)\n",
    "    \n",
    "    stack.append(v)\n",
    "\n",
    "def topologicalSort(adj, V):\n",
    "    stack = []\n",
    "    visited = [False] * V\n",
    "    \n",
    "    for i in range(V):\n",
    "        if not visited[i]:\n",
    "            topologicalSortUtil(i, adj, visited, stack)\n",
    "    \n",
    "    while stack:\n",
    "        print(stack.pop(), end=' ')\n",
    "\n",
    "if __name__ == \"__main__\":\n",
    "    V = 6\n",
    "    edges = [\n",
    "        (5, 2), \n",
    "        (5, 0), \n",
    "        (4, 0), \n",
    "        (4, 1), \n",
    "        (2, 3), \n",
    "        (3, 1)\n",
    "    ]\n",
    "\n",
    "    adj = [[] for _ in range(V)]\n",
    "    for (src, dest) in edges:\n",
    "        adj[src].append(dest)\n",
    "    \n",
    "    print(\"Topological Sort of the given graph:\")\n",
    "    topologicalSort(adj, V)\n"
   ]
  }
 ],
 "metadata": {
  "kernelspec": {
   "display_name": "Python 3",
   "language": "python",
   "name": "python3"
  },
  "language_info": {
   "codemirror_mode": {
    "name": "ipython",
    "version": 3
   },
   "file_extension": ".py",
   "mimetype": "text/x-python",
   "name": "python",
   "nbconvert_exporter": "python",
   "pygments_lexer": "ipython3",
   "version": "3.12.3"
  }
 },
 "nbformat": 4,
 "nbformat_minor": 2
}
