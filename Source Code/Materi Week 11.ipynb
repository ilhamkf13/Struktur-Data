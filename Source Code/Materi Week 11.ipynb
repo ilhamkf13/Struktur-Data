{
 "cells": [
  {
   "cell_type": "code",
   "execution_count": 5,
   "metadata": {},
   "outputs": [
    {
     "name": "stdout",
     "output_type": "stream",
     "text": [
      "20\n",
      "20\n",
      "10\n",
      "5\n",
      "1\n",
      "1\n",
      "\n",
      "\n",
      "\n"
     ]
    }
   ],
   "source": [
    "# Greedy\n",
    "def coinChangeGreedy(n):\n",
    "    coins = [20, 10, 5, 1]\n",
    "    i = 0\n",
    "\n",
    "    while(n>0):\n",
    "        if (coins[i] > n):\n",
    "            i = i + 1\n",
    "        else:\n",
    "            print(coins[i])\n",
    "            n = n - coins[i]\n",
    "    print(\"\\n\\n\")\n",
    "coinChangeGreedy(57)"
   ]
  },
  {
   "cell_type": "code",
   "execution_count": 6,
   "metadata": {},
   "outputs": [
    {
     "name": "stdout",
     "output_type": "stream",
     "text": [
      "The following activities are selected\n",
      "0\n",
      "1\n",
      "3\n",
      "4\n"
     ]
    }
   ],
   "source": [
    "#2\n",
    "def printMaxActivities(s, f):\n",
    "    n = len(f)\n",
    "    print(\"The following activities are selected\")\n",
    "\n",
    "    i = 0\n",
    "    print (i),\n",
    "    \n",
    "    for j in range(n):\n",
    "        if s[j] >= f[i]:\n",
    "            print (j),\n",
    "            i = j\n",
    "\n",
    "s = [1, 3, 0,5, 8, 5]\n",
    "f = [2, 4, 6, 7, 9, 9]\n",
    "printMaxActivities(s, f)"
   ]
  },
  {
   "cell_type": "code",
   "execution_count": 7,
   "metadata": {},
   "outputs": [
    {
     "name": "stdout",
     "output_type": "stream",
     "text": [
      "Maximum value that can be obtained is 220\n"
     ]
    }
   ],
   "source": [
    "# Dynamic Knapsack\n",
    "def knapsack(wt, val, w, n):\n",
    "    if n == 0 or w == 0:\n",
    "        return 0\n",
    "    if t[n][w] != -1:\n",
    "        return t[n][w]\n",
    "    if wt[n-1] <= w:\n",
    "        t[n][w] = max(\n",
    "            val[n-1] + knapsack(\n",
    "                wt, val, w-wt[n-1], n-1),\n",
    "            knapsack(wt, val, w, n-1))\n",
    "        return t[n][w]\n",
    "    elif wt[n-1] > w:\n",
    "        t[n][w] = knapsack(wt, val, w, n-1)\n",
    "        return t[n][w]\n",
    "    \n",
    "if __name__ == '__main__':\n",
    "    profit = [60, 100, 120]\n",
    "    weight = [10, 20, 30]\n",
    "    w = 50\n",
    "    n = len(profit)\n",
    "\n",
    "    t = [[-1 for i in range(w + 1)] for j in range(n + 1)]\n",
    "    print (\"Maximum value that can be obtained is\", knapsack(weight, profit, w, n))"
   ]
  },
  {
   "cell_type": "code",
   "execution_count": 8,
   "metadata": {},
   "outputs": [
    {
     "name": "stdout",
     "output_type": "stream",
     "text": [
      "Maximum value that can be Obtained is 240.0\n"
     ]
    }
   ],
   "source": [
    "#Knapsack Pecahan\n",
    "class Item:\n",
    "    def __init__(self, weight, value):\n",
    "        self.weight = weight\n",
    "        self.value = value\n",
    "        self.ratio = value / weight\n",
    "\n",
    "def fractionalKnapsack(items, capacity):\n",
    "    items.sort(key=lambda x: x.ratio, reverse=True)\n",
    "    totalValue = 0\n",
    "    remainingCapacity = capacity\n",
    "\n",
    "    for item in items:\n",
    "        if remainingCapacity <= 0:\n",
    "            break\n",
    "\n",
    "        fraction = min(1, remainingCapacity / item.weight)\n",
    "        totalValue += fraction * item.value\n",
    "        remainingCapacity -= fraction * item.weight\n",
    "\n",
    "    return round(totalValue, 2)\n",
    "\n",
    "items = [Item(10, 60), Item(20, 100), Item(30, 120)]\n",
    "capacity = 50\n",
    "print(\"Maximum value that can be Obtained is\", fractionalKnapsack(items, capacity))"
   ]
  },
  {
   "cell_type": "code",
   "execution_count": null,
   "metadata": {},
   "outputs": [],
   "source": [
    "# Latihan 1\n",
    "'''\n",
    "Pengurutan :\n",
    "- halaman 4-5 : Tidak ada pengurutan\n",
    "- kode pada gambar : Mengurutkan aktivitas berdasarkan waktu selesai\n",
    "\n",
    "Data : \n",
    "- halaman 4-5 : Menggunakan dua daftar (s dan f)\n",
    "- kode pada gambar : Menggunakan dictionary (data)\n",
    "\n",
    "Output :\n",
    "-halaman 4-5 : Mencetak index aktivitas\n",
    "-kode pada gambar : Mencetak nama aktivitas.\n",
    "'''"
   ]
  },
  {
   "cell_type": "code",
   "execution_count": 10,
   "metadata": {},
   "outputs": [
    {
     "name": "stdout",
     "output_type": "stream",
     "text": [
      "Jumlah Bin yang dibutuhkan adalah 3\n",
      "Jumlah Bin yang dibutuhkan adalah 4\n"
     ]
    }
   ],
   "source": [
    "# Latihan 2\n",
    "def binPacking(berat, c):\n",
    "    berat.sort(reverse=True)\n",
    "    bins = [c] * len(berat)\n",
    "    jumlah_bin = 0\n",
    "\n",
    "    for i in range(len(berat)):\n",
    "        j = 0\n",
    "\n",
    "        while(j < jumlah_bin):\n",
    "            if bins[j] >= berat[i]:\n",
    "                bins[j] -= berat[i]\n",
    "                break\n",
    "            j += 1\n",
    "\n",
    "        if j == jumlah_bin:\n",
    "            bins[jumlah_bin] -= berat[i]\n",
    "            jumlah_bin += 1\n",
    "\n",
    "    return jumlah_bin\n",
    "\n",
    "berat = [4, 8, 1, 8, 2, 1]\n",
    "c = 10\n",
    "print(\"Jumlah Bin yang dibutuhkan adalah\", binPacking(berat, c))\n",
    "\n",
    "berat = [7, 8, 2, 5, 5, 4]\n",
    "c = 10\n",
    "print(\"Jumlah Bin yang dibutuhkan adalah\", binPacking(berat, c))"
   ]
  }
 ],
 "metadata": {
  "kernelspec": {
   "display_name": "Python 3",
   "language": "python",
   "name": "python3"
  },
  "language_info": {
   "codemirror_mode": {
    "name": "ipython",
    "version": 3
   },
   "file_extension": ".py",
   "mimetype": "text/x-python",
   "name": "python",
   "nbconvert_exporter": "python",
   "pygments_lexer": "ipython3",
   "version": "3.12.3"
  }
 },
 "nbformat": 4,
 "nbformat_minor": 2
}
