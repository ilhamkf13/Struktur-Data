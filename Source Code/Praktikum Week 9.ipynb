{
 "cells": [
  {
   "cell_type": "code",
   "execution_count": 1,
   "metadata": {},
   "outputs": [
    {
     "name": "stdout",
     "output_type": "stream",
     "text": [
      "Nilai Output:  [1, 2, 4, 6, 7, 8]\n"
     ]
    }
   ],
   "source": [
    "# Latihan Week 9\n",
    "def hashSort(arr):\n",
    "    hashTable = {}\n",
    "    for num in arr:\n",
    "        hashTable[num] = True\n",
    "    sortedNums = sorted(hashTable.keys())\n",
    "    return sortedNums\n",
    "\n",
    "inputArr = [8, 2, 4, 6, 7, 1]\n",
    "outputArr = hashSort(inputArr)\n",
    "print(\"Nilai Output: \", outputArr)"
   ]
  }
 ],
 "metadata": {
  "kernelspec": {
   "display_name": "Python 3",
   "language": "python",
   "name": "python3"
  },
  "language_info": {
   "codemirror_mode": {
    "name": "ipython",
    "version": 3
   },
   "file_extension": ".py",
   "mimetype": "text/x-python",
   "name": "python",
   "nbconvert_exporter": "python",
   "pygments_lexer": "ipython3",
   "version": "3.12.3"
  }
 },
 "nbformat": 4,
 "nbformat_minor": 2
}
