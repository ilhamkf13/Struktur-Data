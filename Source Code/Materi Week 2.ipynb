{
 "cells": [
  {
   "cell_type": "code",
   "execution_count": 2,
   "metadata": {},
   "outputs": [
    {
     "name": "stdout",
     "output_type": "stream",
     "text": [
      "Januari\n",
      "Februari\n",
      "Maret\n"
     ]
    }
   ],
   "source": [
    "class Node :\n",
    " def __init__(self, dataval=None):\n",
    "  self.dataval = dataval\n",
    "  self.nextval = None\n",
    "\n",
    "n1 = Node(\"Januari\")\n",
    "n2 = Node(\"Februari\")\n",
    "n3 = Node(\"Maret\")\n",
    "\n",
    "print(n1.dataval)\n",
    "print(n2.dataval)\n",
    "print(n3.dataval)"
   ]
  },
  {
   "cell_type": "code",
   "execution_count": 4,
   "metadata": {},
   "outputs": [],
   "source": [
    "class LinkedList:\n",
    "    def __init__(self):\n",
    "        self.headval = None\n",
    "\n",
    "Li = LinkedList()\n",
    "Li.headval = n1\n",
    "\n",
    "Li.headval.nextval = n2\n",
    "\n",
    "n2.nextval = n3"
   ]
  },
  {
   "cell_type": "code",
   "execution_count": 8,
   "metadata": {},
   "outputs": [
    {
     "name": "stdout",
     "output_type": "stream",
     "text": [
      "Januari\n",
      "Februari\n",
      "Maret\n"
     ]
    }
   ],
   "source": [
    "class Node :\n",
    " def __init__(self, dataval=None):\n",
    "  self.dataval = dataval\n",
    "  self.nextval = None\n",
    "\n",
    "class LinkedList:\n",
    "    def __init__(self):\n",
    "        self.headval = None\n",
    "\n",
    "    def listprint(self):\n",
    "       printval = self.headval\n",
    "       while printval is not None:\n",
    "          print(printval.dataval)\n",
    "          printval = printval.nextval\n",
    "\n",
    "Li = LinkedList()\n",
    "\n",
    "Li.headval =n1\n",
    "Li.headval.nextval = n2\n",
    "n2.nextval = n3\n",
    "Li.listprint()"
   ]
  },
  {
   "cell_type": "code",
   "execution_count": 10,
   "metadata": {},
   "outputs": [
    {
     "name": "stdout",
     "output_type": "stream",
     "text": [
      "Start\n",
      "Januari\n",
      "Februari\n",
      "Maret\n"
     ]
    }
   ],
   "source": [
    "class Node :\n",
    " def __init__(self, dataval=None):\n",
    "  self.dataval = dataval\n",
    "  self.nextval = None\n",
    "\n",
    "n1 = Node(\"Januari\")\n",
    "n2 = Node(\"Februari\")\n",
    "n3 =  Node(\"Maret\")\n",
    "class LinkedList:\n",
    "    def __init__(self):\n",
    "        self.headval = None\n",
    "\n",
    "    def listprint(self):\n",
    "       printval = self.headval\n",
    "       while printval is not None:\n",
    "          print(printval.dataval)\n",
    "          printval = printval.nextval\n",
    "\n",
    "    def AddBegining(self, newdata):\n",
    "       NewNode = Node(newdata)\n",
    "       NewNode.nextval = self.headval\n",
    "       self.headval = NewNode\n",
    "\n",
    "Li = LinkedList()\n",
    "\n",
    "Li.headval =n1\n",
    "Li.headval.nextval = n2\n",
    "n2.nextval = n3\n",
    "Li.AddBegining('Start')\n",
    "Li.listprint()"
   ]
  },
  {
   "cell_type": "code",
   "execution_count": 12,
   "metadata": {},
   "outputs": [
    {
     "name": "stdout",
     "output_type": "stream",
     "text": [
      "Januari\n",
      "Middle\n",
      "Februari\n"
     ]
    }
   ],
   "source": [
    "class Node :\n",
    " def __init__(self, dataval=None):\n",
    "  self.dataval = dataval\n",
    "  self.nextval = None\n",
    "\n",
    "n1 = Node(\"Januari\")\n",
    "n2 = Node(\"Februari\")\n",
    "\n",
    "class LinkedList:\n",
    "    def __init__(self):\n",
    "        self.headval = None\n",
    "\n",
    "    def listprint(self):\n",
    "       printval = self.headval\n",
    "       while printval is not None:\n",
    "          print(printval.dataval)\n",
    "          printval = printval.nextval\n",
    "\n",
    "    def AddBetween(self, mid_node, newdata):\n",
    "       if mid_node is None:\n",
    "          print(\"The mentioned node is absent\")\n",
    "          return\n",
    "       NewNode = Node(newdata)\n",
    "       NewNode.nextval = mid_node.nextval\n",
    "       mid_node.nextval = NewNode\n",
    "\n",
    "Li = LinkedList()\n",
    "\n",
    "Li.headval =n1\n",
    "Li.headval.nextval = n2\n",
    "Li.AddBetween(n1,'Middle')\n",
    "Li.listprint()"
   ]
  },
  {
   "cell_type": "code",
   "execution_count": 18,
   "metadata": {},
   "outputs": [
    {
     "name": "stdout",
     "output_type": "stream",
     "text": [
      "Januari\n",
      "Februari\n",
      "The Last\n"
     ]
    }
   ],
   "source": [
    "class Node :\n",
    " def __init__(self, dataval=None):\n",
    "  self.dataval = dataval\n",
    "  self.nextval = None\n",
    "\n",
    "n1 = Node(\"Januari\")\n",
    "n2 = Node(\"Februari\")\n",
    "\n",
    "class LinkedList:\n",
    "    def __init__(self):\n",
    "        self.headval = None\n",
    "\n",
    "    def listprint(self):\n",
    "       printval = self.headval\n",
    "       while printval is not None:\n",
    "          print(printval.dataval)\n",
    "          printval = printval.nextval\n",
    "\n",
    "    def AddInEnd(self,newdata):\n",
    "       NewNode = Node(newdata)\n",
    "       if self.headval is None:\n",
    "          self.headval = NewNode\n",
    "          return\n",
    "       last = self.headval\n",
    "       while(last.nextval):\n",
    "          last = last.nextval\n",
    "       last.nextval =NewNode \n",
    "\n",
    "Li = LinkedList()\n",
    "\n",
    "Li.headval =n1\n",
    "Li.headval.nextval = n2\n",
    "Li.AddInEnd('The Last')\n",
    "Li.listprint()"
   ]
  },
  {
   "cell_type": "code",
   "execution_count": 21,
   "metadata": {},
   "outputs": [
    {
     "name": "stdout",
     "output_type": "stream",
     "text": [
      "Sebelum dilakukan remove\n",
      "Februari\n",
      "Maret\n",
      "April\n",
      "\n",
      "========================================================\n",
      "\n",
      "Setelah dilakukan remove dengan kunci 'maret'\n",
      "Februari\n",
      "April\n"
     ]
    }
   ],
   "source": [
    "class Node :\n",
    " def __init__(self, dataval=None):\n",
    "  self.dataval = dataval\n",
    "  self.nextval = None\n",
    "\n",
    "class LinkedList:\n",
    "    def __init__(self):\n",
    "        self.headval = None\n",
    "\n",
    "    def listprint(self):\n",
    "       printval = self.headval\n",
    "       while printval is not None:\n",
    "          print(printval.dataval)\n",
    "          printval = printval.nextval\n",
    "\n",
    "    def AddBegining(self, newdata):\n",
    "       NewNode = Node(newdata)\n",
    "       NewNode.nextval = self.headval\n",
    "       self.headval = NewNode\n",
    "\n",
    "    def RemoveNode(self,Removekey):\n",
    "       Headval = self.headval\n",
    "\n",
    "       if (Headval is not None):\n",
    "          if (Headval.dataval == Removekey):\n",
    "             self.headval = Headval.nextval\n",
    "             Headval = None\n",
    "             return\n",
    "       while (Headval is not None):\n",
    "          if Headval.dataval == Removekey:\n",
    "             break\n",
    "          prev = Headval\n",
    "          Headval = Headval.nextval\n",
    "       if (Headval == None):\n",
    "          return\n",
    "       prev.nextval = Headval.nextval\n",
    "       Headval = None\n",
    "\n",
    "Li = LinkedList()\n",
    "\n",
    "Li.AddBegining(\"April\")\n",
    "Li.AddBegining(\"Maret\")\n",
    "Li.AddBegining(\"Februari\")\n",
    "print(\"Sebelum dilakukan remove\")\n",
    "Li.listprint()\n",
    "print(\"\\n========================================================\")\n",
    "\n",
    "Li.RemoveNode(\"Maret\")\n",
    "print(\"\\nSetelah dilakukan remove dengan kunci 'maret'\")\n",
    "Li.listprint()"
   ]
  },
  {
   "cell_type": "code",
   "execution_count": 23,
   "metadata": {},
   "outputs": [
    {
     "name": "stdout",
     "output_type": "stream",
     "text": [
      "Sebelum dilakukan remove\n",
      "Februari\n",
      "Maret\n",
      "April\n",
      "\n",
      "========================================================\n",
      "Setelah dilakukan remove node pertama\n",
      "Maret\n",
      "April\n"
     ]
    }
   ],
   "source": [
    "class Node :\n",
    " def __init__(self, dataval=None):\n",
    "  self.dataval = dataval\n",
    "  self.nextval = None\n",
    "\n",
    "class LinkedList:\n",
    "    def __init__(self):\n",
    "        self.headval = None\n",
    "\n",
    "    def listprint(self):\n",
    "       printval = self.headval\n",
    "       while printval is not None:\n",
    "          print(printval.dataval)\n",
    "          printval = printval.nextval\n",
    "\n",
    "    def AddBegining(self, newdata):\n",
    "       NewNode = Node(newdata)\n",
    "       NewNode.nextval = self.headval\n",
    "       self.headval = NewNode\n",
    "\n",
    "    def RemoveFirst(self):\n",
    "       afterhead = self.headval\n",
    "       self.headval = afterhead.nextval\n",
    "\n",
    "Li = LinkedList()\n",
    "\n",
    "Li.AddBegining(\"April\")\n",
    "Li.AddBegining(\"Maret\")\n",
    "Li.AddBegining(\"Februari\")\n",
    "print(\"Sebelum dilakukan remove\")\n",
    "Li.listprint()\n",
    "print(\"\\n========================================================\")\n",
    "\n",
    "Li.RemoveFirst()\n",
    "print(\"Setelah dilakukan remove node pertama\")\n",
    "Li.listprint()"
   ]
  },
  {
   "cell_type": "code",
   "execution_count": 24,
   "metadata": {},
   "outputs": [
    {
     "name": "stdout",
     "output_type": "stream",
     "text": [
      "Sebelum dilakukan remove\n",
      "Januari\n",
      "Februari\n",
      "Maret\n",
      "\n",
      "========================================================\n",
      "Setelah dilakukan remove node terakhir\n",
      "Januari\n",
      "Februari\n"
     ]
    }
   ],
   "source": [
    "class Node :\n",
    " def __init__(self, dataval=None):\n",
    "  self.dataval = dataval\n",
    "  self.nextval = None\n",
    "\n",
    "class LinkedList:\n",
    "    def __init__(self):\n",
    "        self.headval = None\n",
    "\n",
    "    def listprint(self):\n",
    "       printval = self.headval\n",
    "       while printval is not None:\n",
    "          print(printval.dataval)\n",
    "          printval = printval.nextval\n",
    "\n",
    "    def AddInEnd(self,newdata):\n",
    "       NewNode = Node(newdata)\n",
    "       if self.headval is None:\n",
    "          self.headval = NewNode\n",
    "          return\n",
    "       last = self.headval\n",
    "       while(last.nextval):\n",
    "          last = last.nextval\n",
    "       last.nextval =NewNode \n",
    "\n",
    "    def RemoveEnd(self):\n",
    "       last = self.headval\n",
    "       while (last is not None):\n",
    "          if last.nextval == None:\n",
    "             break\n",
    "          prev = last\n",
    "          last = last.nextval\n",
    "       if  (last == None):\n",
    "          return\n",
    "       prev.nextval = last.nextval\n",
    "       last = None\n",
    "\n",
    "Li = LinkedList()\n",
    "\n",
    "Li.AddInEnd(\"Januari\")\n",
    "Li.AddInEnd(\"Februari\")\n",
    "Li.AddInEnd(\"Maret\")\n",
    "print(\"Sebelum dilakukan remove\")\n",
    "Li.listprint()\n",
    "print(\"\\n========================================================\")\n",
    "\n",
    "Li.RemoveEnd()\n",
    "print(\"Setelah dilakukan remove node terakhir\")\n",
    "Li.listprint()"
   ]
  }
 ],
 "metadata": {
  "kernelspec": {
   "display_name": "Python 3",
   "language": "python",
   "name": "python3"
  },
  "language_info": {
   "codemirror_mode": {
    "name": "ipython",
    "version": 3
   },
   "file_extension": ".py",
   "mimetype": "text/x-python",
   "name": "python",
   "nbconvert_exporter": "python",
   "pygments_lexer": "ipython3",
   "version": "3.11.2"
  }
 },
 "nbformat": 4,
 "nbformat_minor": 2
}
