{
 "cells": [
  {
   "cell_type": "code",
   "execution_count": null,
   "metadata": {},
   "outputs": [],
   "source": [
    "from scipy.optimize import linprog\n",
    "\n",
    "# Koefisien fungsi tujuan\n",
    "c = [-200000, -150000]\n",
    "\n",
    "# Koefisien batasan pertidaksamaan (dalam bentuk Ax <= b)\n",
    "A = [[8, 4], [4, 8]]\n",
    "b = [60, 48]\n",
    "\n",
    "# Batasan non-negativitas\n",
    "x0_bounds = (0, None)\n",
    "x1_bounds = (0, None)\n",
    "\n",
    "# Memecahkan masalah dengan linprog\n",
    "result = linprog(c, A_ub=A, b_ub=b, bounds=[x0_bounds, x1_bounds], method='highs')\n",
    "\n",
    "# Print hasil\n",
    "print(\"Jumlah pasang celana yang harus diproduksi:\", round(result.x[0]))\n",
    "print(\"Jumlah jaket yang harus diproduksi:\", round(result.x[1]))\n",
    "print(\"Keuntungan maksimum yang dapat diperoleh:\", -round(result.fun))\n"
   ]
  }
 ],
 "metadata": {
  "kernelspec": {
   "display_name": "Python 3",
   "language": "python",
   "name": "python3"
  },
  "language_info": {
   "name": "python",
   "version": "3.10.11"
  }
 },
 "nbformat": 4,
 "nbformat_minor": 2
}
