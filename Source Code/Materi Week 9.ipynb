{
 "cells": [
  {
   "cell_type": "code",
   "execution_count": 15,
   "metadata": {},
   "outputs": [
    {
     "name": "stdout",
     "output_type": "stream",
     "text": [
      "Insertion done\n",
      "Hash Table Contents: \n",
      " ~~ (1, 20)(2, 70)(42, 80)(4, 25) ~~  ~~  ~~  ~~  ~~  ~~  ~~ (12, 44)(13, 78)(14, 32) ~~  ~~ (17, 11)(37, 97) ~~ \n",
      " ~~ (1, 20)(2, 70)(42, 80)(4, 25) ~~  ~~  ~~  ~~  ~~  ~~  ~~ (12, 44)(13, 78)(14, 32) ~~  ~~ (17, 11)(37, 97) ~~ \n",
      "Element found:  97\n",
      "Element not found\n"
     ]
    }
   ],
   "source": [
    "# Tabel Hash\n",
    "ukuran = 20\n",
    "class DataItem:\n",
    "    def __init__(self, data, key):\n",
    "        self.data = data\n",
    "        self.key = key\n",
    "\n",
    "hashArray = [None] * ukuran\n",
    "dummyItem = DataItem(-1, -1)\n",
    "item = None\n",
    "\n",
    "def hashCode(key):\n",
    "    return key % ukuran\n",
    "\n",
    "def search(key):\n",
    "    hashIndex = hashCode(key)\n",
    "    while hashArray[hashIndex] is not None:\n",
    "        if hashArray[hashIndex].key == key:\n",
    "            return hashArray[hashIndex]\n",
    "        hashIndex = (hashIndex + 1) % ukuran\n",
    "    return None\n",
    "\n",
    "def insert(key, data):\n",
    "    item = DataItem(data, key)\n",
    "    hashIndex = hashCode(key)\n",
    "    while hashArray[hashIndex] is not None and hashArray[hashIndex].key != 1:\n",
    "        hashIndex = (hashIndex + 1) % ukuran\n",
    "    hashArray[hashIndex] = item\n",
    "\n",
    "def deleteItem(item):\n",
    "    key = item.key\n",
    "    hashIndex = hashCode(key)\n",
    "    while hashArray[hashIndex]is not None:\n",
    "        if hashArray[hashIndex].key == key:\n",
    "            temp = hashArray[hashIndex]\n",
    "            hashArray[hashIndex] = dummyItem\n",
    "            return temp\n",
    "        hashIndex = (hashIndex + 1) % ukuran\n",
    "    return None\n",
    "\n",
    "def display():\n",
    "    for i in range(ukuran):\n",
    "        if hashArray[i] is not None:\n",
    "            print(\"({}, {})\".format(hashArray[i].key, hashArray[i].data), end=\"\")\n",
    "        else:\n",
    "            print(\" ~~ \", end=\"\")\n",
    "    print()\n",
    "\n",
    "if __name__ == \"__main__\":\n",
    "    insert(1, 20)\n",
    "    insert(2, 70)\n",
    "    insert(42, 80)\n",
    "    insert(4, 25)\n",
    "    insert(12, 44)\n",
    "    insert(14, 32)\n",
    "    insert(17, 11)\n",
    "    insert(13, 78)\n",
    "    insert(37, 97)\n",
    "print (\"Insertion done\")\n",
    "print (\"Hash Table Contents: \")\n",
    "display()\n",
    "display()\n",
    "item = search(37)\n",
    "\n",
    "if item is not None:\n",
    "    print(\"Element found: \", item.data)\n",
    "else:\n",
    "    print(\"Element not found\")\n",
    "\n",
    "deleteItem(item)\n",
    "item = search(37)\n",
    "\n",
    "if item is not None:\n",
    "    print(\"Element found: \", item.data)\n",
    "else:\n",
    "    print(\"Element not found\")"
   ]
  },
  {
   "cell_type": "code",
   "execution_count": 16,
   "metadata": {},
   "outputs": [
    {
     "name": "stdout",
     "output_type": "stream",
     "text": [
      "String:  hello world\n",
      "Hash Value:  -2573052366111480630\n"
     ]
    }
   ],
   "source": [
    "# Python's built-in hashing function\n",
    "my_string = \"hello world\"\n",
    "hash_value = hash(my_string)\n",
    "print(\"String: \", my_string)\n",
    "print(\"Hash Value: \", hash_value)"
   ]
  },
  {
   "cell_type": "code",
   "execution_count": 17,
   "metadata": {},
   "outputs": [
    {
     "name": "stdout",
     "output_type": "stream",
     "text": [
      "5eb63bbbe01eeed093cb22bb8f5acdc3\n"
     ]
    }
   ],
   "source": [
    "# MD5\n",
    "import hashlib\n",
    "\n",
    "text = \"hello world\"\n",
    "hash_object = hashlib.md5(text.encode())\n",
    "print(hash_object.hexdigest())"
   ]
  },
  {
   "cell_type": "code",
   "execution_count": 18,
   "metadata": {},
   "outputs": [
    {
     "name": "stdout",
     "output_type": "stream",
     "text": [
      "2aae6c35c94fcfb415dbe95f408b9ce91ee846ed\n"
     ]
    }
   ],
   "source": [
    "# SHA-1\n",
    "import hashlib\n",
    "\n",
    "text = \"hello world\"\n",
    "hash_object = hashlib.sha1(text.encode())\n",
    "print(hash_object.hexdigest())"
   ]
  },
  {
   "cell_type": "code",
   "execution_count": 19,
   "metadata": {},
   "outputs": [
    {
     "name": "stdout",
     "output_type": "stream",
     "text": [
      "b94d27b9934d3e08a52e52d7da7dabfac484efe37a5380ee9088f7ace2efcde9\n"
     ]
    }
   ],
   "source": [
    "#SHA-256\n",
    "import hashlib\n",
    "\n",
    "text = \"hello world\"\n",
    "hash_object = hashlib.sha256(text.encode())\n",
    "print(hash_object.hexdigest())"
   ]
  },
  {
   "cell_type": "code",
   "execution_count": 20,
   "metadata": {},
   "outputs": [
    {
     "name": "stdout",
     "output_type": "stream",
     "text": [
      "fdbd8e75a67f29f701a4e040385e2e23986303ea10239211af907fcbb83578b3e417cb71ce646efd0819dd8c088de1bd\n"
     ]
    }
   ],
   "source": [
    "#SHA-384\n",
    "import hashlib\n",
    "\n",
    "text = \"hello world\"\n",
    "hash_object = hashlib.sha384(text.encode())\n",
    "print(hash_object.hexdigest())"
   ]
  },
  {
   "cell_type": "code",
   "execution_count": 21,
   "metadata": {},
   "outputs": [
    {
     "name": "stdout",
     "output_type": "stream",
     "text": [
      "309ecc489c12d6eb4cc40f50c902f2b4d0ed77ee511a7c7a9bcd3ca86d4cd86f989dd35bc5ff499670da34255b45b0cfd830e81f605dcf7dc5542e93ae9cd76f\n"
     ]
    }
   ],
   "source": [
    "#SHA-512\n",
    "import hashlib\n",
    "\n",
    "text = \"hello world\"\n",
    "hash_object = hashlib.sha512(text.encode())\n",
    "print(hash_object.hexdigest())"
   ]
  },
  {
   "cell_type": "code",
   "execution_count": 6,
   "metadata": {},
   "outputs": [
    {
     "name": "stdout",
     "output_type": "stream",
     "text": [
      "10\n",
      "20\n",
      "30\n"
     ]
    }
   ],
   "source": [
    "# Seprate Chaining\n",
    "class node:\n",
    "    def __init__(self, key, value):\n",
    "        self.key = key\n",
    "        self.data = value\n",
    "        self.next = None\n",
    "\n",
    "class separateChainingHashTable:\n",
    "    def __init__(self, size):\n",
    "        self.size = size\n",
    "        self.table = [None] * size\n",
    "\n",
    "    def hashFunction(self, key):\n",
    "        return hash(key) % self.size\n",
    "\n",
    "    def insert(self, key, value):\n",
    "        index = self.hashFunction(key)\n",
    "        if self.table[index] == None:\n",
    "            self.table[index] = node(key, value)\n",
    "        else:\n",
    "            current = self.table[index]\n",
    "            while current.next != None:\n",
    "                current = current.next\n",
    "            current.next = node(key, value)\n",
    "\n",
    "    def search(self, key):\n",
    "        index = self.hashFunction(key)\n",
    "        current = self.table[index]\n",
    "        while current != None:\n",
    "            if current.key == key:\n",
    "                return current.data\n",
    "            current = current.next\n",
    "        return None\n",
    "\n",
    "hashTable = separateChainingHashTable(10)\n",
    "hashTable.insert(\"apple\", 10)\n",
    "hashTable.insert(\"banana\", 20)\n",
    "hashTable.insert(\"orange\", 30)\n",
    "\n",
    "print(hashTable.search(\"apple\"))\n",
    "print(hashTable.search(\"banana\"))\n",
    "print(hashTable.search(\"orange\"))"
   ]
  },
  {
   "cell_type": "code",
   "execution_count": 8,
   "metadata": {},
   "outputs": [
    {
     "name": "stdout",
     "output_type": "stream",
     "text": [
      "10\n",
      "20\n",
      "30\n"
     ]
    }
   ],
   "source": [
    "# Open Addressing\n",
    "class openAddressHashTable:\n",
    "    def __init__(self, size):\n",
    "        self.size = size\n",
    "        self.table = [None] * size\n",
    "\n",
    "    def hashFunction(self, key):\n",
    "        return hash(key) % self.size\n",
    "\n",
    "    def insert(self, key, value):\n",
    "        index = self.hashFunction(key)\n",
    "        while self.table[index] != None:\n",
    "            index = (index + 1) % self.size\n",
    "        self.table[index] = node(key, value)\n",
    "\n",
    "    def search(self, key):\n",
    "        index = self.hashFunction(key)\n",
    "        while self.table[index] != None:\n",
    "            if self.table[index].key == key:\n",
    "                return self.table[index].data\n",
    "            index = (index + 1) % self.size\n",
    "        return None\n",
    "\n",
    "hashTable = openAddressHashTable(10)\n",
    "hashTable.insert(\"apple\", 10)\n",
    "hashTable.insert(\"banana\", 20)\n",
    "hashTable.insert(\"orange\", 30)\n",
    "\n",
    "print(hashTable.search(\"apple\"))\n",
    "print(hashTable.search(\"banana\"))\n",
    "print(hashTable.search(\"orange\"))"
   ]
  }
 ],
 "metadata": {
  "kernelspec": {
   "display_name": "Python 3",
   "language": "python",
   "name": "python3"
  },
  "language_info": {
   "codemirror_mode": {
    "name": "ipython",
    "version": 3
   },
   "file_extension": ".py",
   "mimetype": "text/x-python",
   "name": "python",
   "nbconvert_exporter": "python",
   "pygments_lexer": "ipython3",
   "version": "3.12.3"
  }
 },
 "nbformat": 4,
 "nbformat_minor": 2
}
